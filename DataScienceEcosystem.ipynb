{
 "cells": [
  {
   "cell_type": "markdown",
   "id": "70196cac-27bc-419c-935e-198708b0e3a7",
   "metadata": {},
   "source": [
    "# H1: Data Science Tools and Ecosystem"
   ]
  },
  {
   "cell_type": "markdown",
   "id": "bcb96be1-2a8b-46f5-a445-f610118ac06a",
   "metadata": {},
   "source": [
    "# In this notebook, Data Science Tools and Ecosystems are summarized."
   ]
  },
  {
   "cell_type": "markdown",
   "id": "6078382a-b448-4f86-a19d-6e7f83357862",
   "metadata": {},
   "source": [
    "# **Objectives:**\n",
    "- List popular Data Science Languages.\n",
    "- List popular Data Science Libraries.\n",
    "- List popular Data Science Tools.\n",
    "- Evaluate Arithmetic Expressions."
   ]
  },
  {
   "cell_type": "markdown",
   "id": "41d9b6cf-2f39-4f5e-b887-eb686d4df887",
   "metadata": {},
   "source": [
    "# Some of the popular languages used by Data Scientists are:\n",
    "1. Python\n",
    "2. Java\n",
    "3. JavaScript\n",
    "4. C\n",
    "5. C++"
   ]
  },
  {
   "cell_type": "markdown",
   "id": "d985cd49-f52f-4c94-9302-b9a92659e3d9",
   "metadata": {},
   "source": [
    "# Some of the most commonly used Data Science libraries are:\n",
    "1. Pandas\n",
    "2. NumPy\n",
    "3. Matplotlib\n",
    "4. Seaborn\n",
    "5. TensorFlow"
   ]
  },
  {
   "cell_type": "markdown",
   "id": "e67609d6-d18e-4114-a349-b88a283adf58",
   "metadata": {},
   "source": [
    "# Data Science Tools:\n",
    " |Data Science Tools|\n",
    " |------------------|\n",
    " |Jupyter|\n",
    " |Git|\n",
    " |RStudio|\n",
    " |Anaconda|"
   ]
  },
  {
   "cell_type": "markdown",
   "id": "3ec4e44b-2923-4f0b-84b0-a05f662c448f",
   "metadata": {},
   "source": [
    "# H3: Below are a few examples of evaluating arithmetic expressions in Python"
   ]
  },
  {
   "cell_type": "code",
   "execution_count": 4,
   "id": "7e18cca9-041e-4352-bf4d-4dafe989840e",
   "metadata": {},
   "outputs": [
    {
     "data": {
      "text/plain": [
       "17"
      ]
     },
     "execution_count": 4,
     "metadata": {},
     "output_type": "execute_result"
    }
   ],
   "source": [
    "# This a simple arithmetic expression to mutiply then add integers\n",
    "(3*4)+5"
   ]
  },
  {
   "cell_type": "code",
   "execution_count": 5,
   "id": "758fee9d-0b6c-4967-9eb5-466aa0f4e13b",
   "metadata": {},
   "outputs": [
    {
     "name": "stdout",
     "output_type": "stream",
     "text": [
      "3.3333333333333335\n"
     ]
    }
   ],
   "source": [
    " # This will convert 200 minutes to hours by dividing by 60\n",
    "minutes = (200)\n",
    "hours = (minutes / 60)\n",
    "print (hours)\n"
   ]
  },
  {
   "cell_type": "markdown",
   "id": "96f4d7f1-874a-40d6-b3bb-b35f0c2441a5",
   "metadata": {},
   "source": [
    "# H2: Author:\n",
    "      Tushar Surwade"
   ]
  },
  {
   "cell_type": "code",
   "execution_count": null,
   "id": "9f035c6f-de6f-489d-a6a7-84866869e4a6",
   "metadata": {},
   "outputs": [],
   "source": []
  }
 ],
 "metadata": {
  "kernelspec": {
   "display_name": "Python 3 (ipykernel)",
   "language": "python",
   "name": "python3"
  },
  "language_info": {
   "codemirror_mode": {
    "name": "ipython",
    "version": 3
   },
   "file_extension": ".py",
   "mimetype": "text/x-python",
   "name": "python",
   "nbconvert_exporter": "python",
   "pygments_lexer": "ipython3",
   "version": "3.12.4"
  }
 },
 "nbformat": 4,
 "nbformat_minor": 5
}
